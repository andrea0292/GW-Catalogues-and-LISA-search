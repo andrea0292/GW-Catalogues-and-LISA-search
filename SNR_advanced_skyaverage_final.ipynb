{
 "cells": [
  {
   "cell_type": "code",
   "execution_count": 1,
   "metadata": {},
   "outputs": [],
   "source": [
    "import numpy as np\n",
    "from numpy import sqrt\n",
    "from numpy import sin\n",
    "from numpy import pi\n",
    "from numpy import cos\n",
    "from numpy import exp\n",
    "from numpy import tanh\n",
    "from numpy import zeros\n",
    "from numpy import arccos\n",
    "from numpy import log10\n",
    "from matplotlib import pyplot as plt\n",
    "#import scipy.optimize as opt\n",
    "#import emcee\n",
    "from pylab import plot\n",
    "from scipy import integrate\n",
    "import corner\n",
    "import random\n",
    "from collections import Counter\n",
    "import time\n",
    "import scipy\n",
    "from scipy.stats import poisson # use as poisson.pmf(number of events , mean value)\n",
    "from scipy import optimize"
   ]
  },
  {
   "cell_type": "markdown",
   "metadata": {},
   "source": [
    "# All the functions"
   ]
  },
  {
   "cell_type": "code",
   "execution_count": 2,
   "metadata": {},
   "outputs": [],
   "source": [
    "# we work in geometrized units\n",
    "Msol = 1.47680000000000000000000000000000000 # in km\n",
    "c = 1 # we have actually put them to one everywhere in the code already\n",
    "G = 1\n",
    "year = 60*60*24*(365.250000000000000000000000000); # s\n",
    "cc = 2.9980000000000000000000000000000*10**5 # velocity of light in Km/s\n",
    "pc = 3.0856770000000000000000000000*10**13 # km\n",
    "\n",
    "# 1 / tau accretion, units?\n",
    "factor = 22*10**(-3)*(3154*10**(-3)*10**7*10**6)**(-1)\n",
    "\n",
    "# LISA noise parameters\n",
    "Amp = 5/10*18/10*10**-44\n",
    "alpha = 138/1000\n",
    "beta = -221\n",
    "kappa = 521\n",
    "gamma = 1680\n",
    "fk = 113/10**5\n",
    "L0 = 25/10*10**9\n",
    "fstar = 1909/100*10**-3\n",
    "pm = 10**-12\n",
    "\n",
    "skyav=(4/5*sqrt(2)*sin(pi/3))\n",
    "\n",
    "\n",
    "def nu(m1,m2):\n",
    "    return m1*m2/((m1+m2)**2)\n",
    "\n",
    "def Mc(m1,m2):\n",
    "    return (m1 + m2) * (m1*m2/((m1+m2)**2))**(3/5)\n"
   ]
  },
  {
   "cell_type": "code",
   "execution_count": 3,
   "metadata": {},
   "outputs": [],
   "source": [
    "# noise function, checked with Mathematica\n",
    "\n",
    "def Sacc(f):\n",
    "    return (3*10**-15)**2*(1+(4/10*10**-3/f)**2)*(1+(f/(8*10**-3))**4)\n",
    "\n",
    "def Sgal(f):\n",
    "    return Amp*f**(-7/3)*exp(-f**alpha+beta*f*sin(kappa*f))*(1+tanh(gamma*(fk-f)))\n",
    "\n",
    "def Soms(f):\n",
    "    return (10*pm)**2*(1+(2*10**-3/f)**4)\n",
    "\n",
    "def Sacc(f):\n",
    "    return (3*10**-15)**2*(1+(4/10*10**-3/f)**2)*(1+(f/(8*10**-3))**4)\n",
    "    \n",
    "def SnSA(f):\n",
    "    return 10/3*(4*Sacc(f)/(2*pi*f)**4+Soms(f))/(L0**2)*(1+6/10*(f/fstar)**2)\n",
    "\n",
    "def R(f):\n",
    "    return 3/20*2\n",
    "\n",
    "def Sn(f):\n",
    "    return abs(SnSA(f)+Sgal(f))\n",
    "\n",
    "def Pn(f): # gravitational wave frequency\n",
    "    return abs(Sn(f)*R(f))\n",
    "\n",
    "\n",
    "# noise function from acceleration paper\n",
    "\n",
    "#def SaccA(f):\n",
    " #   return 9. * 10**(-30)/ (2. * pi * f)**4 * (1. + (6. *10**(-4)/f)**2 * (1+(2.22*10**(-4)/f)**8) )\n",
    "\n",
    "#def Sconf(f):\n",
    " #   A = 3. /20. * 3.2665 * 10**(-44)\n",
    "  #  s1 = 3014.3\n",
    "  #  a = 1.183\n",
    "  #  s2 = 2957.7\n",
    "  #  k = 2.0928 * 10**(-3)\n",
    "  #  return A/2. * exp(-s1*f**a) * f**(-7/3) * (1. - tanh(s2*(f-k)))\n",
    "\n",
    "#def SnA(f):\n",
    " #   Sother = 8.899 * 10**(-23)\n",
    " #   L = 2.5 * 10**9 \n",
    " #   return (4.*SaccA(f) + Sother)/L**2 * (1. + (2.*f*L/0.41/cc/10**3)**2) + Sconf(f)\n"
   ]
  },
  {
   "cell_type": "code",
   "execution_count": 4,
   "metadata": {
    "scrolled": true
   },
   "outputs": [
    {
     "name": "stdout",
     "output_type": "stream",
     "text": [
      "1.1371737338193066e-14\n"
     ]
    }
   ],
   "source": [
    "# waveform\n",
    "\n",
    "def ampl(m1,m2,d): \n",
    "    return (Mc(m1,m2)*G)**(5/6)*sqrt(5/24)/(pi**(2/3)*d*c**(3/2))\n",
    "def habs(m1,m2,d,f): # gravitational wave frequency\n",
    "    return ampl(m1,m2,d)*f**(-7/6)\n",
    "\n",
    "print(habs(12.4913,12.3884,10.8287*10**6*pc,1./cc))\n"
   ]
  },
  {
   "cell_type": "code",
   "execution_count": null,
   "metadata": {},
   "outputs": [],
   "source": [
    "ampl(10*Msol,20*Msol,)"
   ]
  },
  {
   "cell_type": "code",
   "execution_count": 5,
   "metadata": {},
   "outputs": [],
   "source": [
    "# here we define the SNR; \n",
    "# be careful that I have already put the factor for the sky average\n",
    "# we use the GW only template.\n",
    "\n",
    "def SNR(sky,fmin,fmax,m1,m2,d): # gravitational wave frequency\n",
    "    return sqrt(4*integrate.quad(lambda x: (sky*habs(m1,m2,d, x/cc))**2/(Pn(x)*(cc**2)), fmin, fmax)[0])\n",
    "#different noise here!\n",
    "\n",
    "#print(SNR(0.01,fmax(30*Msol,10*Msol,0.01,Tobs),60*Msol,10*Msol,pi/2,400*10**6*pc),400*10**6*pc)\n"
   ]
  },
  {
   "cell_type": "code",
   "execution_count": null,
   "metadata": {},
   "outputs": [],
   "source": []
  },
  {
   "cell_type": "code",
   "execution_count": 6,
   "metadata": {},
   "outputs": [
    {
     "data": {
      "text/plain": [
       "45.42816185452258"
      ]
     },
     "execution_count": 6,
     "metadata": {},
     "output_type": "execute_result"
    }
   ],
   "source": [
    "SNR(skyav*1/2,0.017058,0.4,23.5*Msol,22.57*Msol,40.45*10**6*pc)"
   ]
  },
  {
   "cell_type": "code",
   "execution_count": 7,
   "metadata": {},
   "outputs": [],
   "source": [
    "# accretion phase\n",
    "def faseacc(f,fm,m1,m2,xi,fEdd): # gravitational wave frequency\n",
    "    return (25*factor*fEdd*(f*fm*Mc(m1,m2))**(2/3)*(13*f**(8/3)*fm**(5/3)*nu(m1,m2) + 12*f**(13/3)*(nu(m1,m2)- 2*xi)+fm**(13/3)*(-25*nu(m1,m2) + 24*xi)))/(159744*f**5*fm**5*pi**(13/3)*Mc(m1,m2)**4*nu(m1,m2))\n"
   ]
  },
  {
   "cell_type": "code",
   "execution_count": 7,
   "metadata": {},
   "outputs": [],
   "source": [
    "# sky location functions\n",
    "'''\n",
    "def Aplus(iota,psi):\n",
    "    return -(1.+cos(iota)**2.)*cos(2.*psi)-2.*cos(iota)*sin(2.*psi)\n",
    "def Across(iota,psi):\n",
    "    return (1.+cos(iota)**2.)*sin(2.*psi)-2.*cos(iota)*cos(2.*psi)\n",
    "def Fplus(theta,phi):\n",
    "    return 1./2.*(1.+cos(theta)**2.)*cos(2.*phi)\n",
    "def Fcross(theta,phi):\n",
    "    return cos(theta)*sin(2.*phi)\n",
    "\n",
    "def factorsky(iota,psi,theta,phi): # absolute value\n",
    "    return (Fplus(theta,phi)*Aplus(iota,psi))**2.+(Fcross(theta,phi)*Across(iota,psi))**2\n",
    "\n",
    "def randomsky():\n",
    "    #iota=random.uniform(0,pi)\n",
    "    cosiota = random.uniform(-1.,1.)\n",
    "    psi = random.uniform(0,2*pi)\n",
    "    costheta=random.uniform(-1.,1.)\n",
    "    phi=random.uniform(0,2*pi)\n",
    "    return arccos(cosiota),psi,arccos(costheta),phi,factorsky(arccos(cosiota),psi,arccos(costheta),phi)\n",
    "'''"
   ]
  },
  {
   "cell_type": "code",
   "execution_count": 9,
   "metadata": {},
   "outputs": [
    {
     "data": {
      "text/plain": [
       "17.009058428834408"
      ]
     },
     "execution_count": 9,
     "metadata": {},
     "output_type": "execute_result"
    }
   ],
   "source": [
    "# frequency functions \n",
    "\n",
    "def fMIN2(fmax0,m1,m2,Tobs): # gravitational wave frequency\n",
    "    return 1/(1/fmax0**(8/3)+256/5*(Mc(m1,m2)/cc)**(5/3)*pi**(8/3)*(Tobs))**(3/8)\n",
    "\n",
    "def fmax(m1,m2,fmin,Tobs): # gravitational wave frequency\n",
    "    return fmin*((5*cc)/(5*cc-256*fmin**(8/3)*pi**(8/3)*Tobs*Mc(m1,m2)*(Mc(m1,m2)/cc)**(2/3)))**(3/8)\n",
    "\n",
    "\n",
    "# gives fmax, given fmin and Tobs. If fmax is above 10 Hz, gives 10 Hz instead. frequency is always in Hz\n",
    "\n",
    "def getfmax(m1,m2,fmin,Tobs): # gravitational wave frequency\n",
    "    if fMIN2(1,m1,m2,Tobs)>fmin:\n",
    "        return fmax(m1,m2,fmin,Tobs)\n",
    "    else: \n",
    "        return 1\n",
    "    \n",
    "def Tmerger(m1,m2,fmin): # gravitational wave frequency\n",
    "    return 5. * (m1 + m2)**(1./3.) * cc**(5./3.)/ (256. * fmin**(8./3.) * m1 * m2 * pi**(8./3.))\n",
    "\n",
    "getfmax(29*Msol,36*Msol,0.01,10*year)\n",
    "Tmerger(29*Msol,36*Msol,0.01)/year\n"
   ]
  },
  {
   "cell_type": "code",
   "execution_count": 17,
   "metadata": {},
   "outputs": [
    {
     "data": {
      "text/plain": [
       "9.149848434605692"
      ]
     },
     "execution_count": 17,
     "metadata": {},
     "output_type": "execute_result"
    }
   ],
   "source": [
    "Tmerger(60,80,0.01)/year"
   ]
  },
  {
   "cell_type": "code",
   "execution_count": 8,
   "metadata": {},
   "outputs": [],
   "source": [
    "#here we define the mass models, already normalized\n",
    "\n",
    "# mass model parameters\n",
    "factorA = 14.188328379  ## laura\n",
    "factorB = 51.15\n",
    "factorS = 7.4307563728937\n",
    "\n",
    "R0A = 10**(-9)*64.9/year; # Mpc^-3 s^-1\n",
    "R0B = 10**(-9)*53.2/year;\n",
    "R0S = 10**(-9)*32/year; # Log Flat distribution of Sesana's (\"S\") work\n",
    "\n",
    "def modelloA(m1,m2): # 1/ km^2\n",
    "    if (5.001 * Msol <= m2 <= m1 <= 208*Msol/5):\n",
    "        return ((m1)**(-2/5)/(m1-5*Msol))/factorA\n",
    "    return 0\n",
    "\n",
    "def modelloB(m1,m2):\n",
    "    if (7.9*Msol <= m2 <= m1 <= 42*Msol):\n",
    "        return (7.7*(m1**(-1.6)*(m2/m1)**6.7)/(m1**(-8.3)*(m1**7.7-(7.9*Msol)**7.7)))/factorB\n",
    "    return 0\n",
    "\n",
    "def modelloS(m1,m2):\n",
    "    if (m1 >= 5*Msol and m2 >= 5*Msol and m1 + m2 <= 100*Msol):\n",
    "        return 1/(m1*m2*factorS)\n",
    "    return 0\n",
    "#here we define the cosmology and the different factors in the game\n",
    "\n",
    "H0 = 67.9 # km /s / Mpc # changed to PLANCK 2015\n",
    "Omegam = 0.306\n",
    "OmegaL = 0.694\n",
    "Omegar = 0.\n",
    "\n",
    "def distL(z):\n",
    "    return (1+z) * integrate.quad(invE,0,z)[0] *cc / H0 *10**6*pc # km\n",
    "\n",
    "def Ez(z):\n",
    "    return sqrt(Omegar*(1+z)**4+Omegam*(1+z)**3+OmegaL)\n",
    "\n",
    "def invE(z):\n",
    "    return 1. / Ez(z)\n",
    "\n",
    "def primopezzo(zp):\n",
    "    return 1/Ez(zp)*(integrate.quad(invE,0,zp)[0])**2\n",
    "\n",
    "def dVdz(z):\n",
    "    return 4*pi*(cc/H0)**3*primopezzo(z) # Mpc**3\n",
    "\n",
    "def dtdf(f,m1,m2):  # Hz, km, km, gravitational wave frequency\n",
    "    return 5/(96*pi**(8/3))*(1./cc*(m1 + m2)*(m1*m2/(m1 + m2)**2)**(3/5))**(-5/\n",
    "  3)*f**(-11/3)  # s^2, assuming f in Hz and m in km\n",
    "\n",
    "def solof(f):\n",
    "    return f**(-11/3)\n",
    "\n",
    "# here is our final distribution\n",
    "\n",
    "def distribution(model,m1,m2,f,z):  #km, km, Hz\n",
    "    if model == \"A\" :\n",
    "        return R0A*modelloA(m1,m2)*dVdz(z)*dtdf(f,m1,m2) # units: Mpc^-3 s^-1 km^-2 Mpc**3 s^2 = s /km^2, ok!\n",
    "    if model == \"B\" :\n",
    "        return R0B*modelloB(m1,m2)*dVdz(z)*dtdf(f,m1,m2)\n",
    "    elif model == \"S\":\n",
    "        return R0S*modelloS(m1,m2)*dVdz(z)*dtdf(f,m1,m2)\n",
    "    else :\n",
    "        print(\"the input must be the string A or B or S for mass model A or B or S\")\n",
    "\n"
   ]
  },
  {
   "cell_type": "code",
   "execution_count": 9,
   "metadata": {},
   "outputs": [],
   "source": [
    "# mass dependent integrand\n",
    "\n",
    "def massonlyA(m1,m2):\n",
    "    return ((m1 + m2)*(m1*m2/(m1 + m2)**2)**(3/5))**(-5/3)*modelloA(m1,m2)\n",
    "\n",
    "def massonlyB(m1,m2):\n",
    "    return ((m1 + m2)*(m1*m2/(m1 + m2)**2)**(3/5))**(-5/3)*modelloB(m1,m2)\n",
    "\n",
    "def massonlyS(m1,m2):\n",
    "    return ((m1 + m2)*(m1*m2/(m1 + m2)**2)**(3/5))**(-5/3)*modelloS(m1,m2)\n",
    "        \n",
    "# the integrand is separable, so we integrate separately the z, f and m1, m2 dependences\n",
    "\n",
    "def binAB(model,inz,finz,inf,finf,inm1,finm1,inm2,finm2):\n",
    "    if model == \"A\" :\n",
    "        return (integrate.quad(dVdz,inz,finz)[0]) * (integrate.quad(solof,inf,finf)[0]) * 5.*c**5./(96.*pi**(8./3.))*G**(-5./3.)*cc**(5./3.) * R0A * integrate.nquad(massonlyA,[[inm1,finm1],[inm2,finm2]])[0]\n",
    "    elif model == \"B\" :\n",
    "        return (integrate.quad(dVdz,inz,finz)[0]) * (integrate.quad(solof,inf,finf)[0])*5.*c**5./(96.*pi**(8./3.))*G**(-5./3.)*cc**(5./3.) * R0B * integrate.nquad(massonlyB,[[inm1,finm1],[inm2,finm2]])[0]\n",
    "    elif model == \"S\":\n",
    "        return (integrate.quad(dVdz,inz,finz)[0]) * (integrate.quad(solof,inf,finf)[0])*5.*c**5./(96.*pi**(8./3.))*G**(-5./3.)*cc**(5./3.) * R0S * integrate.nquad(massonlyS,[[inm1,finm1],[inm2,finm2]])[0]\n",
    "    else :\n",
    "        print(\"the input must be the string A or B or S for mass model A or B or S\")\n"
   ]
  },
  {
   "cell_type": "code",
   "execution_count": 11,
   "metadata": {},
   "outputs": [],
   "source": [
    "# rejection sampling function. \n",
    "\n",
    "def rejectionsampling(model,minz, maxz, minf, maxf, minm1, maxm1, minm2, maxm2):\n",
    "    \n",
    "    def mdist(vars):\n",
    "        m1,m2,f,z = vars\n",
    "        if minz <= z < maxz and minf <= f < maxf and minm1 <= m1 < maxm1 and minm2 < m2 < maxm2 : \n",
    "            if model == \"A\" :\n",
    "                return - modelloA(m1,m2)*dVdz(z)*R0A*dtdf(f,m1,m2) # minus sign to use the optimize.fmin function\n",
    "            if model == \"B\" :\n",
    "                return - modelloB(m1,m2)*dVdz(z)*R0B*dtdf(f,m1,m2)\n",
    "            if model == \"S\":\n",
    "                return - modelloS(m1,m2)*dVdz(z)*R0S*dtdf(f,m1,m2)\n",
    "            else :\n",
    "                print(\"the input must be the string A or B or S for mass model A or B or S\")\n",
    "        else:\n",
    "            return 0\n",
    "            \n",
    "    initial_guess = [minm1+.1, minm2, minf, minz]\n",
    "    themax = scipy.optimize.fmin(mdist, initial_guess, ftol=0.000001, maxiter=1000, disp=False) # m1, m2, f, z\n",
    "    themaxvalue = distribution(model,themax[0], themax[1], themax[2], themax[3]) \n",
    "    \n",
    "    while True: \n",
    "        m1test = random.uniform(minm1, maxm1) \n",
    "        m2test = random.uniform(minm2, maxm2)\n",
    "        ftest = random.uniform(minf, maxf)\n",
    "        ztest = random.uniform(minz, maxz)\n",
    "        y = random.uniform(0.,1.)*themaxvalue\n",
    "        if(y < distribution(model,m1test, m2test, ftest, ztest)):\n",
    "            break\n",
    "    return [m1test, m2test, ftest, ztest]"
   ]
  },
  {
   "cell_type": "code",
   "execution_count": 12,
   "metadata": {},
   "outputs": [],
   "source": [
    "\n",
    "def makemock(model): # Running over every bin. Computes the <N> events in a bin (integrating the distribution)\n",
    "                # and defines a Poisson distribution with average <N>. Events are then picked\n",
    "                # using the rejection sampling function, \n",
    "                # with a cut off to the number of events in a bin to avoid long running times.\n",
    "    if model != \"A\" and model != \"B\" and model != \"S\":\n",
    "        print(\"the input must be the string A or B or S for mass model A or B or S\")\n",
    "    for i in range(Nm):\n",
    "        for j in range(Nm):\n",
    "            for k in range(Nf):\n",
    "                for n in range(Nz):\n",
    "                    #if (i+j+k+n)%3:\n",
    "                    #    print(i,j,k,n)\n",
    "                    \n",
    "                    minz = (zi+n*stepz)\n",
    "                    maxz = (zi+(n+1)*stepz)\n",
    "                    minf = (10**(fi+k*stepf))\n",
    "                    maxf = (10**(fi+(k+1)*stepf))\n",
    "                    minm1 = (Mi+i*stepM)  \n",
    "                    maxm1 = (Mi+(i+1)*stepM)\n",
    "                    minm2 = (Mi+j*stepM) \n",
    "                    maxm2 = (Mi+(j+1)*stepM)\n",
    "                    \n",
    "                    avern = binAB(model,minz, maxz, minf, maxf, minm1, maxm1, minm2, maxm2)\n",
    "                    \n",
    "                    print(avern)\n",
    "                    \n",
    "                    if avern < 100:\n",
    "                        b = random.uniform(0,1)\n",
    "                    \n",
    "                        def poiss(numero):\n",
    "                            return poisson.pmf(numero,avern)\n",
    "                    \n",
    "                        nev = 0\n",
    "                        while True: \n",
    "                            if sum([poiss(l) for l in range(nev)]) <= b < sum([poiss(l) for l in range(nev+1)]):\n",
    "                                eventi.append(nev)\n",
    "                                for l in range(nev):\n",
    "                                    newpoints = rejectionsampling(model,minz, maxz, minf, maxf, minm1, maxm1, minm2, maxm2)\n",
    "                                    mockdatasetM1.append(newpoints[0])\n",
    "                                    mockdatasetM2.append(newpoints[1])\n",
    "                                    mockdatasetf.append(newpoints[2])                               \n",
    "                                    mockdatasetz.append(newpoints[3])\n",
    "                                break\n",
    "                            elif sum([poiss(l) for l in range(nev+1)]) > 0.99: #or nev >= 5000: \n",
    "                                break    \n",
    "                            nev +=1\n",
    "                        print(nev)\n",
    "                        \n",
    "                    else:\n",
    "                        mu, sigma = avern, sqrt(avern)\n",
    "                        nev = int(round(np.random.normal(mu, sigma, 1)[0]))\n",
    "                        print(\"Gaussian\")\n",
    "                        print(nev)\n",
    "                        for l in range(nev):\n",
    "                            newpoints = rejectionsampling(model,minz, maxz, minf, maxf, minm1, maxm1, minm2, maxm2)\n",
    "                            mockdatasetM1.append(newpoints[0])\n",
    "                            mockdatasetM2.append(newpoints[1])\n",
    "                            mockdatasetf.append(newpoints[2])                               \n",
    "                            mockdatasetz.append(newpoints[3])\n",
    "                    \n",
    "    return 0                        \n"
   ]
  },
  {
   "cell_type": "code",
   "execution_count": 14,
   "metadata": {},
   "outputs": [],
   "source": [
    "# events above threshold calculator. TLISA must be in seconds, LIGO is 0 or 1\n",
    "\n",
    "def appendall(aboveth_mockdatasetz,aboveth_mockdatasetf,aboveth_mockdatasetM1,aboveth_mockdatasetM2,aboveth_SNR,z,fmin,m1,m2,snr,i):\n",
    "    aboveth_mockdatasetz.append(z)\n",
    "    aboveth_mockdatasetf.append(fmin)\n",
    "    aboveth_mockdatasetM1.append(m1)\n",
    "    aboveth_mockdatasetM2.append(m2)\n",
    "    aboveth_SNR.append(snr)\n",
    "    return 0\n",
    "\n",
    "def snrthreshold(mockdatasetz, mockdatasetf, mockdatasetM1, mockdatasetM2, TLISA, LIGO):\n",
    "    if LIGO != 0 and LIGO !=1 :\n",
    "        print(\"error: choose LIGO=0 if LISA only, choose LIGO=1 if LIGO will detect.\")\n",
    "    \n",
    "    aboveth_mockdatasetz=[]\n",
    "    aboveth_mockdatasetf=[]\n",
    "    aboveth_mockdatasetM1=[]\n",
    "    aboveth_mockdatasetM2=[]\n",
    "    aboveth_SNR=[]\n",
    "\n",
    "    for i in range(len(mockdatasetM1)):\n",
    "        z = mockdatasetz[i]\n",
    "        Tobs = TLISA \n",
    "        m1 = mockdatasetM1[i]*(1+z)\n",
    "        m2 = mockdatasetM2[i]*(1+z)\n",
    "        fmin = mockdatasetf[i]/(1+z)\n",
    "        Tm = Tmerger(m1,m2,fmin) # in our frame\n",
    "        snr = 1./2.*SNR(sqrt(skyav),fmin, getfmax(m1,m2,fmin,Tobs), m1, m2, distL(z)) \n",
    "        \n",
    "        if LIGO == 0 and Tm <= 10. * year and snr >= 15 :  # min SNR for LISA only\n",
    "            appendall(aboveth_mockdatasetz,aboveth_mockdatasetf,aboveth_mockdatasetM1,aboveth_mockdatasetM2,aboveth_SNR,z,fmin,m1,m2,snr,i)               \n",
    "        if LIGO == 0 and 10 * year < Tm <= 100 * year and snr >= 15. : # LIGO doesn't matter here anyways\n",
    "            appendall(aboveth_mockdatasetz,aboveth_mockdatasetf,aboveth_mockdatasetM1,aboveth_mockdatasetM2,aboveth_SNR,z,fmin,m1,m2,snr,i)               \n",
    "        if LIGO == 0 and Tm > 100 * year and snr >= 10. :\n",
    "            appendall(aboveth_mockdatasetz,aboveth_mockdatasetf,aboveth_mockdatasetM1,aboveth_mockdatasetM2,aboveth_SNR,z,fmin,m1,m2,snr,i)               \n",
    "        if LIGO == 1 and Tm < 10. * year and snr >= 9.5:\n",
    "            appendall(aboveth_mockdatasetz,aboveth_mockdatasetf,aboveth_mockdatasetM1,aboveth_mockdatasetM2,aboveth_SNR,z,fmin,m1,m2,snr,i)               \n",
    "\n",
    "    return aboveth_mockdatasetz,aboveth_mockdatasetf,aboveth_mockdatasetM1,aboveth_mockdatasetM2,aboveth_SNR"
   ]
  },
  {
   "cell_type": "markdown",
   "metadata": {},
   "source": [
    "# Mock data "
   ]
  },
  {
   "cell_type": "code",
   "execution_count": null,
   "metadata": {
    "scrolled": false
   },
   "outputs": [
    {
     "name": "stderr",
     "output_type": "stream",
     "text": [
      "/Users/andreacaputo/anaconda3/lib/python3.7/site-packages/scipy/integrate/quadpack.py:385: IntegrationWarning: The maximum number of subdivisions (50) has been achieved.\n",
      "  If increasing the limit yields no improvement it is advised to analyze \n",
      "  the integrand in order to determine the difficulties.  If the position of a \n",
      "  local difficulty can be determined (singularity, discontinuity) one will \n",
      "  probably gain from splitting up the interval and calling the integrator \n",
      "  on the subranges.  Perhaps a special-purpose integrator should be used.\n",
      "  warnings.warn(msg, IntegrationWarning)\n"
     ]
    },
    {
     "name": "stdout",
     "output_type": "stream",
     "text": [
      "1299.9280301652227\n",
      "Gaussian\n",
      "1294\n",
      "8720.799403488832\n",
      "Gaussian\n",
      "8720\n",
      "22536.591718367068\n",
      "Gaussian\n",
      "22786\n",
      "41671.90170009664\n",
      "Gaussian\n",
      "42000\n",
      "65117.695011754986\n",
      "Gaussian\n",
      "65380\n"
     ]
    }
   ],
   "source": [
    "# when running makemock(model), event parameters are saved in mockdatasetz, etc \n",
    "\n",
    "# the mock data function.\n",
    "\n",
    "# set Tobs and model !\n",
    "\n",
    "model = \"A\"\n",
    "\n",
    "Nf = 10 # frequency bin \n",
    "Nz = 10 # red-shift bin\n",
    "Nm = 10 # mass bin\n",
    "\n",
    "# ranges \n",
    "zi = 0.\n",
    "zf = 0.515 #1.\n",
    "fi = -2.4 # maybe we could start from -2.5? depending on the mass, they could be visible\n",
    "ff = 1.\n",
    "Mi = 5. * Msol # ok for model A and B\n",
    "Mf = 42. * Msol # 100. * Msol or 50 Msol for model B. 42 Msol is good for A and B.\n",
    "\n",
    "\n",
    "# steps \n",
    "deltaz = zf-zi\n",
    "deltaf = ff - fi\n",
    "stepz = deltaz/Nz\n",
    "stepf = deltaf/Nf\n",
    "deltaM = Mf - Mi\n",
    "stepM = deltaM/Nm\n",
    "\n",
    "eventi=[]\n",
    "checkavern=[]\n",
    "mockdatasetz=[]\n",
    "mockdatasetf=[]\n",
    "mockdatasetM1=[]\n",
    "mockdatasetM2=[]\n",
    "\n",
    "start =  time.perf_counter()\n",
    "makemock(model)\n",
    "end =  time.perf_counter()\n",
    "(end-start)/60 # in min.  234 min for z=0.4 without Gaussian option. 13 min with Gaussian! z=1, 70 min."
   ]
  },
  {
   "cell_type": "code",
   "execution_count": null,
   "metadata": {},
   "outputs": [],
   "source": [
    "formdata = zeros((len(mockdatasetz),9))\n",
    "for i in range(len(mockdatasetz)):\n",
    "    formdata[i,0] = distL(mockdatasetz[i]) # km\n",
    "    formdata[i,1] = mockdatasetf[i]/(1+mockdatasetz[i])\n",
    "    formdata[i,2] = getfmax(mockdatasetM1[i],mockdatasetM2[i],mockdatasetf[i]/(1+mockdatasetz[i]),Tobs)\n",
    "    formdata[i,3] = mockdatasetM1[i]\n",
    "    formdata[i,4] = mockdatasetM2[i]\n",
    "    formdata[i,5] = mockdatasetz[i]\n",
    "np.savetxt('massA_alldata1.txt', formdata, fmt=\"%s\")"
   ]
  },
  {
   "cell_type": "markdown",
   "metadata": {},
   "source": [
    "# Threshold, with LIGO, 10 years: "
   ]
  },
  {
   "cell_type": "code",
   "execution_count": 26,
   "metadata": {},
   "outputs": [
    {
     "name": "stdout",
     "output_type": "stream",
     "text": [
      "14\n"
     ]
    }
   ],
   "source": [
    "# run this to find the mock data above threshold, and save into the following arrays\n",
    "# -2.5 268\n",
    "LIGO = 1\n",
    "Tobs = 10 * year\n",
    "\n",
    "'''\n",
    "del aboveth_mockdatasetz\n",
    "del aboveth_mockdatasetf\n",
    "del aboveth_mockdatasetM1\n",
    "del aboveth_mockdatasetM2\n",
    "del aboveth_SNR\n",
    "'''\n",
    "\n",
    "aboveth_mockdatasetz,aboveth_mockdatasetf,aboveth_mockdatasetM1,aboveth_mockdatasetM2,aboveth_SNR = snrthreshold(mockdatasetz, mockdatasetf, mockdatasetM1, mockdatasetM2, Tobs, LIGO)\n",
    "print(len(aboveth_mockdatasetz)) #saves redshifted quantities\n"
   ]
  },
  {
   "cell_type": "code",
   "execution_count": 27,
   "metadata": {},
   "outputs": [],
   "source": [
    "# to save to file\n",
    "\n",
    "formdata = zeros((len(aboveth_mockdatasetz),9))\n",
    "for i in range(len(aboveth_mockdatasetz)):\n",
    "    formdata[i,0] = distL(aboveth_mockdatasetz[i]) # km\n",
    "    formdata[i,1] = aboveth_mockdatasetf[i]\n",
    "    formdata[i,2] = getfmax(aboveth_mockdatasetM1[i],aboveth_mockdatasetM2[i],aboveth_mockdatasetf[i],Tobs)\n",
    "    formdata[i,3] = aboveth_mockdatasetM1[i]\n",
    "    formdata[i,4] = aboveth_mockdatasetM2[i]\n",
    "    formdata[i,5] = aboveth_SNR[i]\n",
    "    formdata[i,6] = random.uniform(0.,1.) # spin1\n",
    "    formdata[i,7] = random.uniform(0.,1.) # spin2\n",
    "    formdata[i,8] = random.uniform(0.,2.*pi) # phase\n",
    "np.savetxt('massB_zmax05_f24_aboveth10yearsLIGO_1.txt', formdata, fmt=\"%s\")"
   ]
  },
  {
   "cell_type": "markdown",
   "metadata": {},
   "source": [
    "# Threshold, with LIGO, 4 years: "
   ]
  },
  {
   "cell_type": "code",
   "execution_count": 28,
   "metadata": {},
   "outputs": [
    {
     "name": "stdout",
     "output_type": "stream",
     "text": [
      "6\n"
     ]
    }
   ],
   "source": [
    "# run this to find the mock data above threshold, and save into the following arrays\n",
    "# -2.5 268\n",
    "LIGO = 1\n",
    "Tobs = 4 * year\n",
    "\n",
    "del aboveth_mockdatasetz\n",
    "del aboveth_mockdatasetf\n",
    "del aboveth_mockdatasetM1\n",
    "del aboveth_mockdatasetM2\n",
    "del aboveth_SNR\n",
    "\n",
    "aboveth_mockdatasetz,aboveth_mockdatasetf,aboveth_mockdatasetM1,aboveth_mockdatasetM2,aboveth_SNR = snrthreshold(mockdatasetz, mockdatasetf, mockdatasetM1, mockdatasetM2, Tobs, LIGO)\n",
    "print(len(aboveth_mockdatasetz)) #saves redshifted quantities\n"
   ]
  },
  {
   "cell_type": "code",
   "execution_count": 29,
   "metadata": {},
   "outputs": [],
   "source": [
    "# to save to file\n",
    "\n",
    "formdata = zeros((len(aboveth_mockdatasetz),9))\n",
    "for i in range(len(aboveth_mockdatasetz)):\n",
    "    formdata[i,0] = distL(aboveth_mockdatasetz[i]) # km\n",
    "    formdata[i,1] = aboveth_mockdatasetf[i]\n",
    "    formdata[i,2] = getfmax(aboveth_mockdatasetM1[i],aboveth_mockdatasetM2[i],aboveth_mockdatasetf[i],Tobs)\n",
    "    formdata[i,3] = aboveth_mockdatasetM1[i]\n",
    "    formdata[i,4] = aboveth_mockdatasetM2[i]\n",
    "    formdata[i,5] = aboveth_SNR[i]\n",
    "    formdata[i,6] = random.uniform(0.,1.) # spin1\n",
    "    formdata[i,7] = random.uniform(0.,1.) # spin2\n",
    "    formdata[i,8] = random.uniform(0.,2.*pi) # phase\n",
    "np.savetxt('massB_zmax05_f24_aboveth4yearsLIGO_1.txt', formdata, fmt=\"%s\")"
   ]
  },
  {
   "cell_type": "markdown",
   "metadata": {},
   "source": [
    "# Threshold, without LIGO, 10 years: "
   ]
  },
  {
   "cell_type": "code",
   "execution_count": 31,
   "metadata": {},
   "outputs": [
    {
     "name": "stdout",
     "output_type": "stream",
     "text": [
      "93\n"
     ]
    }
   ],
   "source": [
    "# run this to find the mock data above threshold, and save into the following arrays\n",
    "# -2.5 268\n",
    "LIGO = 0\n",
    "Tobs = 10 * year\n",
    "\n",
    "del aboveth_mockdatasetz\n",
    "del aboveth_mockdatasetf\n",
    "del aboveth_mockdatasetM1\n",
    "del aboveth_mockdatasetM2\n",
    "del aboveth_SNR\n",
    "\n",
    "aboveth_mockdatasetz,aboveth_mockdatasetf,aboveth_mockdatasetM1,aboveth_mockdatasetM2,aboveth_SNR = snrthreshold(mockdatasetz, mockdatasetf, mockdatasetM1, mockdatasetM2, Tobs, LIGO)\n",
    "print(len(aboveth_mockdatasetz)) #saves redshifted quantities\n"
   ]
  },
  {
   "cell_type": "code",
   "execution_count": 32,
   "metadata": {},
   "outputs": [],
   "source": [
    "# to save to file\n",
    "\n",
    "formdata = zeros((len(aboveth_mockdatasetz),9))\n",
    "for i in range(len(aboveth_mockdatasetz)):\n",
    "    formdata[i,0] = distL(aboveth_mockdatasetz[i]) # km\n",
    "    formdata[i,1] = aboveth_mockdatasetf[i]\n",
    "    formdata[i,2] = getfmax(aboveth_mockdatasetM1[i],aboveth_mockdatasetM2[i],aboveth_mockdatasetf[i],Tobs)\n",
    "    formdata[i,3] = aboveth_mockdatasetM1[i]\n",
    "    formdata[i,4] = aboveth_mockdatasetM2[i]\n",
    "    formdata[i,5] = aboveth_SNR[i]\n",
    "    formdata[i,6] = random.uniform(0.,1.) # spin1\n",
    "    formdata[i,7] = random.uniform(0.,1.) # spin2\n",
    "    formdata[i,8] = random.uniform(0.,2.*pi) # phase\n",
    "np.savetxt('massB_zmax05_f24_aboveth10years_1.txt', formdata, fmt=\"%s\")"
   ]
  },
  {
   "cell_type": "markdown",
   "metadata": {},
   "source": [
    "# Threshold, without LIGO, 4 years: "
   ]
  },
  {
   "cell_type": "code",
   "execution_count": 33,
   "metadata": {},
   "outputs": [
    {
     "name": "stdout",
     "output_type": "stream",
     "text": [
      "44\n"
     ]
    }
   ],
   "source": [
    "# run this to find the mock data above threshold, and save into the following arrays\n",
    "# -2.5 268\n",
    "LIGO = 0\n",
    "Tobs = 4 * year\n",
    "\n",
    "del aboveth_mockdatasetz\n",
    "del aboveth_mockdatasetf\n",
    "del aboveth_mockdatasetM1\n",
    "del aboveth_mockdatasetM2\n",
    "del aboveth_SNR\n",
    "\n",
    "aboveth_mockdatasetz,aboveth_mockdatasetf,aboveth_mockdatasetM1,aboveth_mockdatasetM2,aboveth_SNR = snrthreshold(mockdatasetz, mockdatasetf, mockdatasetM1, mockdatasetM2, Tobs, LIGO)\n",
    "print(len(aboveth_mockdatasetz)) #saves redshifted quantities\n"
   ]
  },
  {
   "cell_type": "code",
   "execution_count": 34,
   "metadata": {},
   "outputs": [],
   "source": [
    "# to save to file\n",
    "\n",
    "formdata = zeros((len(aboveth_mockdatasetz),9))\n",
    "for i in range(len(aboveth_mockdatasetz)):\n",
    "    formdata[i,0] = distL(aboveth_mockdatasetz[i]) # km\n",
    "    formdata[i,1] = aboveth_mockdatasetf[i]\n",
    "    formdata[i,2] = getfmax(aboveth_mockdatasetM1[i],aboveth_mockdatasetM2[i],aboveth_mockdatasetf[i],Tobs)\n",
    "    formdata[i,3] = aboveth_mockdatasetM1[i]\n",
    "    formdata[i,4] = aboveth_mockdatasetM2[i]\n",
    "    formdata[i,5] = aboveth_SNR[i]\n",
    "    formdata[i,6] = random.uniform(0.,1.) # spin1\n",
    "    formdata[i,7] = random.uniform(0.,1.) # spin2\n",
    "    formdata[i,8] = random.uniform(0.,2.*pi) # phase\n",
    "np.savetxt('massB_zmax05_f24_aboveth4years_1.txt', formdata, fmt=\"%s\")"
   ]
  },
  {
   "cell_type": "code",
   "execution_count": null,
   "metadata": {},
   "outputs": [],
   "source": []
  }
 ],
 "metadata": {
  "kernelspec": {
   "display_name": "Python 3",
   "language": "python",
   "name": "python3"
  },
  "language_info": {
   "codemirror_mode": {
    "name": "ipython",
    "version": 3
   },
   "file_extension": ".py",
   "mimetype": "text/x-python",
   "name": "python",
   "nbconvert_exporter": "python",
   "pygments_lexer": "ipython3",
   "version": "3.7.2"
  }
 },
 "nbformat": 4,
 "nbformat_minor": 2
}
